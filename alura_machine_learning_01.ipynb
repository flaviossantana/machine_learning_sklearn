{
  "nbformat": 4,
  "nbformat_minor": 0,
  "metadata": {
    "colab": {
      "name": "alura_machine_learning_01",
      "provenance": [],
      "collapsed_sections": []
    },
    "kernelspec": {
      "name": "python3",
      "display_name": "Python 3"
    }
  },
  "cells": [
    {
      "cell_type": "code",
      "metadata": {
        "id": "zj-hbzD6YpoQ",
        "colab_type": "code",
        "outputId": "60fdf1b5-8498-48f4-db5d-0c802a0aa9df",
        "colab": {
          "base_uri": "https://localhost:8080/",
          "height": 54
        }
      },
      "source": [
        "\"\"\"\n",
        " - Treinar algoritmos;\n",
        " - Definir características (features) do que desejamos classificar;\n",
        " - Classificar em categorias;\n",
        " - Utilizar o módulo linearSVC e accuracy_score;\n",
        " - Utilizar o método fit;\n",
        " - Prever dados com a função predict;\n",
        " - Calcular a taxa de acerto do modelo;\n",
        " - Comparar testes e previsões;\n",
        " - Utilizar a função soma;\n",
        " - Padronizar variáveis;\n",
        "\n",
        "\"\"\""
      ],
      "execution_count": 1,
      "outputs": [
        {
          "output_type": "execute_result",
          "data": {
            "text/plain": [
              "'\\n - Treinar algoritmos;\\n - Definir características (features) do que desejamos classificar;\\n - Classificar em categorias;\\n - Utilizar o módulo linearSVC e accuracy_score;\\n - Utilizar o método fit;\\n - Prever dados com a função predict;\\n - Calcular a taxa de acerto do modelo;\\n - Comparar testes e previsões;\\n - Utilizar a função soma;\\n - Padronizar variáveis;\\n\\n'"
            ]
          },
          "metadata": {
            "tags": []
          },
          "execution_count": 1
        }
      ]
    },
    {
      "cell_type": "code",
      "metadata": {
        "id": "JkzcXJkNZWKR",
        "colab_type": "code",
        "colab": {}
      },
      "source": [
        "#features (1 sim, 0 não)\n",
        "#pelo longo\n",
        "#penar curta\n",
        "#late\n",
        "\n",
        "pig01 = [0,1,0]\n",
        "pig02 = [0,1,1]\n",
        "pig03 = [1,1,0]\n",
        "\n",
        "dog01 = [0,1,1]\n",
        "dog02 = [1,0,1]\n",
        "dog03 = [1,1,1]\n",
        "\n",
        "# 1 => PIG, 0 =>  DOG\n",
        "training_x = [pig01, pig02, pig03, dog01, dog02, dog03]\n",
        "#labels / etiqueta\n",
        "training_y = [1,1,1,0,0,0]"
      ],
      "execution_count": 0,
      "outputs": []
    },
    {
      "cell_type": "code",
      "metadata": {
        "id": "ScLrJW8Jj3vG",
        "colab_type": "code",
        "outputId": "4e2088e3-89b1-49d1-e496-1e832f785a18",
        "colab": {
          "base_uri": "https://localhost:8080/",
          "height": 85
        }
      },
      "source": [
        "# O LinearSVC é uma classe que possibilita a criação de um modelo.\n",
        "from sklearn.svm import LinearSVC\n",
        "\n",
        "model = LinearSVC()\n",
        "# Método de aprendizagem por supervisão\n",
        "model.fit(training_x, training_y)"
      ],
      "execution_count": 3,
      "outputs": [
        {
          "output_type": "execute_result",
          "data": {
            "text/plain": [
              "LinearSVC(C=1.0, class_weight=None, dual=True, fit_intercept=True,\n",
              "          intercept_scaling=1, loss='squared_hinge', max_iter=1000,\n",
              "          multi_class='ovr', penalty='l2', random_state=None, tol=0.0001,\n",
              "          verbose=0)"
            ]
          },
          "metadata": {
            "tags": []
          },
          "execution_count": 3
        }
      ]
    },
    {
      "cell_type": "code",
      "metadata": {
        "id": "Cr3CqFQIj6vJ",
        "colab_type": "code",
        "colab": {}
      },
      "source": [
        "animal01 = [1,1,1]\n",
        "animal02 = [1,1,0]\n",
        "animal03 = [0,1,1]\n",
        "\n",
        "tests_x = [animal01, animal02, animal03]\n",
        "tests_y = [0,1,1]\n",
        "\n",
        "predictions = model.predict(tests_x)"
      ],
      "execution_count": 0,
      "outputs": []
    },
    {
      "cell_type": "code",
      "metadata": {
        "id": "bZPL4h12kNFm",
        "colab_type": "code",
        "outputId": "4d166684-6b58-4b31-b5d2-dacd7a74b2f1",
        "colab": {
          "base_uri": "https://localhost:8080/",
          "height": 34
        }
      },
      "source": [
        "correct = (predictions == tests_y).sum()\n",
        "total = len(tests_x)\n",
        "\n",
        "# Taxa de acertos\n",
        "hit_rate = (correct / total) * 100\n",
        "print(\"Hit Rate: %.2f \" % hit_rate) \n"
      ],
      "execution_count": 5,
      "outputs": [
        {
          "output_type": "stream",
          "text": [
            "Hit Rate: 66.67 \n"
          ],
          "name": "stdout"
        }
      ]
    },
    {
      "cell_type": "code",
      "metadata": {
        "id": "VV8ltK0vkUS-",
        "colab_type": "code",
        "outputId": "1399f796-dddf-4fd4-8181-5859cd5a631e",
        "colab": {
          "base_uri": "https://localhost:8080/",
          "height": 34
        }
      },
      "source": [
        "from sklearn.metrics import accuracy_score\n",
        "# Taxa de Acerto com API Sklearn\n",
        "hit_rate = accuracy_score(tests_y, predictions)\n",
        "\n",
        "print(\"Hit Rate: %.2f \" % (hit_rate * 100)) "
      ],
      "execution_count": 6,
      "outputs": [
        {
          "output_type": "stream",
          "text": [
            "Hit Rate: 66.67 \n"
          ],
          "name": "stdout"
        }
      ]
    },
    {
      "cell_type": "code",
      "metadata": {
        "id": "Sw7bpLB1kU-j",
        "colab_type": "code",
        "colab": {}
      },
      "source": [
        ""
      ],
      "execution_count": 0,
      "outputs": []
    }
  ]
}